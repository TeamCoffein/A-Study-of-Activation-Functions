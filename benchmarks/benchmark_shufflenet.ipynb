{
 "cells": [
  {
   "cell_type": "markdown",
   "metadata": {
    "colab_type": "text",
    "id": "-oiitLHJlzvR"
   },
   "source": [
    "## 1) Imports"
   ]
  },
  {
   "cell_type": "code",
   "execution_count": 1,
   "metadata": {
    "colab": {},
    "colab_type": "code",
    "id": "z0I5r5wvlzvS"
   },
   "outputs": [],
   "source": [
    "import torch\n",
    "import torch.nn as nn\n",
    "import torch.nn.functional as F\n",
    "from torch.nn.parameter import Parameter\n",
    "import torch.optim as optim\n",
    "from torch.utils.data import random_split\n",
    "\n",
    "import torchvision\n",
    "from torchvision import transforms, datasets\n",
    "from torch.utils.data import DataLoader\n",
    "\n",
    "import numpy as np  # linear algebra\n",
    "import pandas as pd # data processing, CSV file I/O (e.g. pd.read_csv)\n",
    "import os\n",
    "\n",
    "import matplotlib.pyplot as plt\n",
    "\n",
    "import time\n",
    "import random\n",
    "import itertools"
   ]
  },
  {
   "cell_type": "markdown",
   "metadata": {
    "colab_type": "text",
    "id": "uELFI52DlzvW"
   },
   "source": [
    "## 2) Definitions"
   ]
  },
  {
   "cell_type": "markdown",
   "metadata": {
    "colab_type": "text",
    "id": "aJHUkcPClzvW"
   },
   "source": [
    "### 2.1) Activation Functions"
   ]
  },
  {
   "cell_type": "markdown",
   "metadata": {
    "colab_type": "text",
    "id": "BHpyE6d2lzvX"
   },
   "source": [
    "#### 2.1.1) Squashing Function"
   ]
  },
  {
   "cell_type": "code",
   "execution_count": 2,
   "metadata": {
    "colab": {},
    "colab_type": "code",
    "id": "9QFGfdE1lzvX"
   },
   "outputs": [],
   "source": [
    "# implement class wrapper for squashing activation function\n",
    "class Squashing(nn.Module):\n",
    "    def __init__(self, learnable=True, beta=0.1):\n",
    "        '''\n",
    "        Init method.\n",
    "        '''\n",
    "        super(Squashing, self).__init__()\n",
    "\n",
    "        # initialize fix parameters\n",
    "        self.alpha = 0.5\n",
    "        self.lam = 1.0\n",
    "\n",
    "\n",
    "        if learnable:\n",
    "            # initialize beta as learnable parameter\n",
    "            self.beta = Parameter(torch.tensor(beta))\n",
    "            self.beta.requiresGrad = True\n",
    "        else:\n",
    "            # static value\n",
    "            self.beta = torch.tensor(beta)\n",
    "            self.beta.requiresGrad = False\n",
    "\n",
    "    def forward(self, x):\n",
    "        '''\n",
    "        Forward pass of the function.\n",
    "        '''\n",
    "        #print(\"Beta:\", self.beta.data.item())\n",
    "        global betas\n",
    "        global f_beta \n",
    "        global f_alpha \n",
    "        global f_lam \n",
    "        f_beta= self.beta\n",
    "        f_alpha= self.alpha\n",
    "        f_lam= self.lam \n",
    "\n",
    "\n",
    "        betas = self.beta.data.item()\n",
    "        return (1/(self.lam * self.beta)) * torch.log( (1+torch.exp(self.beta*(x-(self.alpha-(self.lam/2)))) ) / (1+torch.exp(self.beta*(x-(self.alpha+(self.lam/2))))) )\n",
    "\n",
    "\n",
    "\n",
    "# implement squashing activation function\n",
    "def f_squashing(input):\n",
    "  slam = f_lam\n",
    "  sbeta = f_beta\n",
    "  salpha = f_alpha\n",
    "  return (1/(slam * sbeta)) * torch.log( (1+torch.exp(sbeta*(input-(salpha-(slam/2)))) ) / (1+torch.exp(sbeta*(input-(salpha+(slam/2))))) )"
   ]
  },
  {
   "cell_type": "markdown",
   "metadata": {
    "colab_type": "text",
    "id": "kkYmaKzYlzva"
   },
   "source": [
    "#### 2.1.2) Swish Function"
   ]
  },
  {
   "cell_type": "code",
   "execution_count": 3,
   "metadata": {
    "colab": {},
    "colab_type": "code",
    "id": "2D9S0lonlzva"
   },
   "outputs": [],
   "source": [
    "# implement swish activation function\n",
    "def f_swish(input):\n",
    "    '''\n",
    "    Applies the swish function element-wise:\n",
    "    swish(x) = x * sigmoid(x)\n",
    "    '''\n",
    "    return input * torch.sigmoid(input)\n",
    "\n",
    "# implement class wrapper for swish activation function\n",
    "class Swish(nn.Module):\n",
    "    '''\n",
    "    Applies the swish function element-wise:\n",
    "    swish(x) = x * sigmoid(x)\n",
    "\n",
    "    Shape:\n",
    "        - Input: (N, *) where * means, any number of additional\n",
    "          dimensions\n",
    "        - Output: (N, *), same shape as the input\n",
    "\n",
    "    Examples:\n",
    "        >>> m = swish()\n",
    "        >>> input = torch.randn(2)\n",
    "        >>> output = m(input)\n",
    "\n",
    "    '''\n",
    "    def __init__(self):\n",
    "        '''\n",
    "        Init method.\n",
    "        '''\n",
    "        super().__init__()\n",
    "\n",
    "    def forward(self, input):\n",
    "        '''\n",
    "        Forward pass of the function.\n",
    "        '''\n",
    "        return f_swish(input)"
   ]
  },
  {
   "cell_type": "markdown",
   "metadata": {
    "colab_type": "text",
    "id": "_d5gyyVKlzvd"
   },
   "source": [
    "### 2.2) Networks"
   ]
  },
  {
   "cell_type": "markdown",
   "metadata": {},
   "source": [
    "# ShuffleNet"
   ]
  },
  {
   "cell_type": "code",
   "execution_count": 4,
   "metadata": {},
   "outputs": [],
   "source": [
    "def channel_split(x, split):\n",
    "    \"\"\"split a tensor into two pieces along channel dimension\n",
    "    Args:\n",
    "        x: input tensor\n",
    "        split:(int) channel size for each pieces\n",
    "    \"\"\"\n",
    "    assert x.size(1) == split * 2\n",
    "    return torch.split(x, split, dim=1)\n",
    "    \n",
    "def channel_shuffle(x, groups):\n",
    "    \"\"\"channel shuffle operation\n",
    "    Args:\n",
    "        x: input tensor\n",
    "        groups: input branch number\n",
    "    \"\"\"\n",
    "\n",
    "    batch_size, channels, height, width = x.size()\n",
    "    channels_per_group = int(channels / groups)\n",
    "\n",
    "    x = x.view(batch_size, groups, channels_per_group, height, width)\n",
    "    x = x.transpose(1, 2).contiguous()\n",
    "    x = x.view(batch_size, -1, height, width)\n",
    "\n",
    "    return x\n",
    "\n",
    "class ShuffleUnit(nn.Module):\n",
    "\n",
    "    def __init__(self, in_channels, out_channels, stride, activation = 'squashing'):\n",
    "        super().__init__()\n",
    "\n",
    "        self.stride = stride\n",
    "        self.in_channels = in_channels\n",
    "        self.out_channels = out_channels\n",
    "        self.activation = activation\n",
    "        \n",
    "        if activation == 'relu':\n",
    "            self.f_activation = nn.ReLU()\n",
    "        elif activation == 'sigmoid':\n",
    "            self.f_activation = nn.Sigmoid()\n",
    "        elif activation == 'swish':\n",
    "            self.f_activation = Swish()\n",
    "        elif activation == 'squashing':\n",
    "            self.f_activation = Squashing()\n",
    "        elif (activation == 'squashing-nl'):\n",
    "            self.f_activation = Squashing(False, beta=0.6)\n",
    "\n",
    "        if stride != 1 or in_channels != out_channels:\n",
    "            self.residual = nn.Sequential(\n",
    "                nn.Conv2d(in_channels, in_channels, 1),\n",
    "                nn.BatchNorm2d(in_channels),\n",
    "                self.f_activation,\n",
    "                nn.Conv2d(in_channels, in_channels, 3, stride=stride, padding=1, groups=in_channels),\n",
    "                nn.BatchNorm2d(in_channels),\n",
    "                nn.Conv2d(in_channels, int(out_channels / 2), 1),\n",
    "                nn.BatchNorm2d(int(out_channels / 2)),\n",
    "                self.f_activation\n",
    "            )\n",
    "\n",
    "            self.shortcut = nn.Sequential(\n",
    "                nn.Conv2d(in_channels, in_channels, 3, stride=stride, padding=1, groups=in_channels),\n",
    "                nn.BatchNorm2d(in_channels),\n",
    "                nn.Conv2d(in_channels, int(out_channels / 2), 1),\n",
    "                nn.BatchNorm2d(int(out_channels / 2)),\n",
    "                self.f_activation\n",
    "            )\n",
    "        else:\n",
    "            self.shortcut = nn.Sequential()\n",
    "\n",
    "            in_channels = int(in_channels / 2)\n",
    "            self.residual = nn.Sequential(\n",
    "                nn.Conv2d(in_channels, in_channels, 1),\n",
    "                nn.BatchNorm2d(in_channels),\n",
    "                self.f_activation,\n",
    "                nn.Conv2d(in_channels, in_channels, 3, stride=stride, padding=1, groups=in_channels),\n",
    "                nn.BatchNorm2d(in_channels),\n",
    "                nn.Conv2d(in_channels, in_channels, 1),\n",
    "                nn.BatchNorm2d(in_channels),\n",
    "                self.f_activation \n",
    "            )\n",
    "\n",
    "    \n",
    "    def forward(self, x):\n",
    "\n",
    "        if self.stride == 1 and self.out_channels == self.in_channels:\n",
    "            shortcut, residual = channel_split(x, int(self.in_channels / 2))\n",
    "        else:\n",
    "            shortcut = x\n",
    "            residual = x\n",
    "        \n",
    "        shortcut = self.shortcut(shortcut)\n",
    "        residual = self.residual(residual)\n",
    "        x = torch.cat([shortcut, residual], dim=1)\n",
    "        x = channel_shuffle(x, 2)\n",
    "        \n",
    "        return x\n",
    "\n",
    "class ShuffleNetV2(nn.Module):\n",
    "\n",
    "    def __init__(self, ratio=1, class_num=10, activation = 'squashing'):\n",
    "        super().__init__()\n",
    "        if ratio == 0.5:\n",
    "            out_channels = [48, 96, 192, 1024]\n",
    "        elif ratio == 1:\n",
    "            out_channels = [116, 232, 464, 1024]\n",
    "        elif ratio == 1.5:\n",
    "            out_channels = [176, 352, 704, 1024]\n",
    "        elif ratio == 2:\n",
    "            out_channels = [244, 488, 976, 2048]\n",
    "        else:\n",
    "            ValueError('unsupported ratio number')\n",
    "            \n",
    "        if activation == 'relu':\n",
    "            self.f_activation = nn.ReLU()\n",
    "        elif activation == 'sigmoid':\n",
    "            self.f_activation = nn.Sigmoid()\n",
    "        elif activation == 'swish':\n",
    "            self.f_activation = Swish()\n",
    "        elif activation == 'squashing':\n",
    "            self.f_activation = Squashing()\n",
    "        elif (activation == 'squashing-nl'):\n",
    "            self.f_activation = Squashing(False, beta=0.6)\n",
    "        \n",
    "        self.pre = nn.Sequential(\n",
    "            nn.Conv2d(1, 24, 3, padding=1),\n",
    "            nn.BatchNorm2d(24)\n",
    "        )\n",
    "\n",
    "        self.stage2 = self._make_stage(24, out_channels[0], 3, activation = activation)\n",
    "        self.stage3 = self._make_stage(out_channels[0], out_channels[1], 7, activation = activation)\n",
    "        self.stage4 = self._make_stage(out_channels[1], out_channels[2], 3, activation = activation)\n",
    "        self.conv5 = nn.Sequential(\n",
    "            nn.Conv2d(out_channels[2], out_channels[3], 1),\n",
    "            nn.BatchNorm2d(out_channels[3]),\n",
    "            self.f_activation\n",
    "        )\n",
    "\n",
    "        self.fc = nn.Linear(out_channels[3], class_num)\n",
    "\n",
    "    def forward(self, x):\n",
    "        x = self.pre(x)\n",
    "        x = self.stage2(x)\n",
    "        x = self.stage3(mx)\n",
    "        x = self.stage4(x)\n",
    "        x = self.conv5(x)\n",
    "        x = F.adaptive_avg_pool2d(x, 1)\n",
    "        x = x.view(x.size(0), -1)\n",
    "        x = self.fc(x)\n",
    "\n",
    "        return x\n",
    "\n",
    "    def _make_stage(self, in_channels, out_channels, repeat, activation = 'squashing'):\n",
    "        layers = []\n",
    "        layers.append(ShuffleUnit(in_channels, out_channels, 2, activation = activation))\n",
    "\n",
    "        while repeat:\n",
    "            layers.append(ShuffleUnit(out_channels, out_channels, 1, activation = activation))\n",
    "            repeat -= 1\n",
    "        \n",
    "        return nn.Sequential(*layers)"
   ]
  },
  {
   "cell_type": "markdown",
   "metadata": {},
   "source": [
    "## 2.3) Confusion Matrix"
   ]
  },
  {
   "cell_type": "code",
   "execution_count": 5,
   "metadata": {},
   "outputs": [],
   "source": [
    "def plot_confusion_matrix(cm, classes, normalize=False, title=f'Confusion matrix', cmap=plt.cm.Blues, activation='relu', network='lenet', step='train'):\n",
    "    if normalize:\n",
    "        cm = cm.astype('float') / cm.sum(axis=1)[:, np.newaxis]\n",
    "        print(\"Normalized confusion matrix\")\n",
    "    else:\n",
    "        print('Confusion matrix, without normalization')\n",
    "\n",
    "    print(cm)\n",
    "    plt.imshow(cm, interpolation='nearest', cmap=cmap)\n",
    "    plt.title(title)\n",
    "    plt.colorbar()\n",
    "    tick_marks = np.arange(len(classes))\n",
    "    plt.xticks(tick_marks, classes, rotation=45)\n",
    "    plt.yticks(tick_marks, classes)\n",
    "    \n",
    "    bottom, top = plt.ylim()\n",
    "    plt.ylim(bottom+0.5, top-0.5) # set the ylim to bottom, top\n",
    "\n",
    "    fmt = '.2f' if normalize else 'd'\n",
    "    thresh = cm.max() / 2.\n",
    "    for i, j in itertools.product(range(cm.shape[0]), range(cm.shape[1])):\n",
    "        plt.text(j, i, format(cm[i, j], fmt), horizontalalignment=\"center\", color=\"white\" if cm[i, j] > thresh else \"black\")\n",
    "\n",
    "    plt.tight_layout()\n",
    "    plt.ylabel('True label')\n",
    "    plt.xlabel('Predicted label')\n",
    "    plt.savefig(f'./storage/results/fashion-mnist_{network}_{activation}_{step}_{int(time.time())}.png', dpi=300, transparent=True, bbox_inches='tight')"
   ]
  },
  {
   "cell_type": "markdown",
   "metadata": {
    "colab_type": "text",
    "id": "ygaT6otilzvg"
   },
   "source": [
    "## 3) Parameter"
   ]
  },
  {
   "cell_type": "code",
   "execution_count": 6,
   "metadata": {
    "colab": {
     "base_uri": "https://localhost:8080/",
     "height": 306
    },
    "colab_type": "code",
    "executionInfo": {
     "elapsed": 3284,
     "status": "ok",
     "timestamp": 1592154966361,
     "user": {
      "displayName": "Benedikt Schmid",
      "photoUrl": "",
      "userId": "05729031355326907803"
     },
     "user_tz": -120
    },
    "id": "ttAyOQTmlzvg",
    "outputId": "a5530959-78d6-4022-cfe5-9f4f5f97eb09"
   },
   "outputs": [
    {
     "name": "stdout",
     "output_type": "stream",
     "text": [
      "cuda\n"
     ]
    }
   ],
   "source": [
    "epochs = 50\n",
    "batch_size = 32\n",
    "learning_rate = 0.001\n",
    "\n",
    "device = torch.device('cuda' if torch.cuda.is_available() else \"cpu\")\n",
    "print(device)\n",
    "\n",
    "network = 'shufflenet'\n",
    "\n",
    "# squashing, squashing-nl, relu, sigmoid, swish, tanh\n",
    "activation = 'squashing'\n",
    "\n",
    "# MobileNet(activation=activation)\n",
    "# MobileNetV2(activation=activation)\n",
    "# LeNet5(activation=activation)\n",
    "# ShuffleNetV2(activation=activation)\n",
    "# resnext50(activation=activation)\n",
    "# InceptionV3(activation=activation)\n",
    "# squeezenet(class_num=10, activation = 'relu'):\n",
    "model = ShuffleNetV2(activation=activation)\n",
    "\n",
    "# set loss function\n",
    "criterion = nn.CrossEntropyLoss()\n",
    "\n",
    "# set optimizer, only train the classifier parameters, feature parameters are frozen\n",
    "optimizer = optim.Adam(model.parameters(), lr=learning_rate)"
   ]
  },
  {
   "cell_type": "markdown",
   "metadata": {
    "colab_type": "text",
    "id": "ekprYQyAlzvk"
   },
   "source": [
    "## 4) Datasets"
   ]
  },
  {
   "cell_type": "code",
   "execution_count": 7,
   "metadata": {
    "colab": {},
    "colab_type": "code",
    "id": "hNxsoFEBlzvk"
   },
   "outputs": [],
   "source": [
    "# definie train dataloader\n",
    "trainset = torchvision.datasets.FashionMNIST(root='./storage', train=True, download=True, transform=transforms.ToTensor())\n",
    "trainloader = torch.utils.data.DataLoader(trainset, shuffle=True, batch_size=batch_size)\n",
    "\n",
    "# definie test dataloader\n",
    "testset = torchvision.datasets.FashionMNIST(root='./storage', train=False, download=True, transform=transforms.ToTensor())\n",
    "testloader = torch.utils.data.DataLoader(testset, shuffle=False, batch_size=batch_size)"
   ]
  },
  {
   "cell_type": "markdown",
   "metadata": {
    "colab_type": "text",
    "id": "ThCuIal7lzvn"
   },
   "source": [
    "## 5) Training"
   ]
  },
  {
   "cell_type": "code",
   "execution_count": 8,
   "metadata": {
    "cellView": "both",
    "colab": {
     "base_uri": "https://localhost:8080/",
     "height": 207
    },
    "colab_type": "code",
    "executionInfo": {
     "elapsed": 1940181,
     "status": "error",
     "timestamp": 1592067167223,
     "user": {
      "displayName": "Benedikt Schmid",
      "photoUrl": "",
      "userId": "05729031355326907803"
     },
     "user_tz": -120
    },
    "id": "IeCmgGvrlzvo",
    "outputId": "81fe8db3-767c-4c97-cb3b-5d98e848a812"
   },
   "outputs": [
    {
     "name": "stdout",
     "output_type": "stream",
     "text": [
      "Epoch 1/50.. Time per epoch: 59.1321.. Average time per step: 0.0315.. \n",
      "Epoch 1/50.. Train loss: 0.4117.. Train accuracy: 0.8490.. Top-3 train accuracy: 0.9817.. \n",
      "Epoch 1/50.. Test loss: 0.2822.. Test accuracy: 0.8984.. Top-3 test accuracy: 0.9894.. \n",
      "Epoch 2/50.. Time per epoch: 56.2992.. Average time per step: 0.0300.. \n",
      "Epoch 2/50.. Train loss: 0.2660.. Train accuracy: 0.9034.. Top-3 train accuracy: 0.9923.. \n",
      "Epoch 2/50.. Test loss: 0.2500.. Test accuracy: 0.9086.. Top-3 test accuracy: 0.9916.. \n",
      "Epoch 3/50.. Time per epoch: 56.3781.. Average time per step: 0.0301.. \n",
      "Epoch 3/50.. Train loss: 0.2268.. Train accuracy: 0.9173.. Top-3 train accuracy: 0.9943.. \n",
      "Epoch 3/50.. Test loss: 0.2755.. Test accuracy: 0.9039.. Top-3 test accuracy: 0.9914.. \n",
      "Epoch 4/50.. Time per epoch: 56.5795.. Average time per step: 0.0302.. \n",
      "Epoch 4/50.. Train loss: 0.2010.. Train accuracy: 0.9274.. Top-3 train accuracy: 0.9956.. \n",
      "Epoch 4/50.. Test loss: 0.2609.. Test accuracy: 0.9060.. Top-3 test accuracy: 0.9935.. \n",
      "Epoch 5/50.. Time per epoch: 56.4607.. Average time per step: 0.0301.. \n",
      "Epoch 5/50.. Train loss: 0.1770.. Train accuracy: 0.9351.. Top-3 train accuracy: 0.9969.. \n",
      "Epoch 5/50.. Test loss: 0.2180.. Test accuracy: 0.9238.. Top-3 test accuracy: 0.9939.. \n",
      "Epoch 6/50.. Time per epoch: 56.5496.. Average time per step: 0.0302.. \n",
      "Epoch 6/50.. Train loss: 0.1607.. Train accuracy: 0.9407.. Top-3 train accuracy: 0.9975.. \n",
      "Epoch 6/50.. Test loss: 0.2875.. Test accuracy: 0.8959.. Top-3 test accuracy: 0.9941.. \n",
      "Epoch 7/50.. Time per epoch: 56.7356.. Average time per step: 0.0303.. \n",
      "Epoch 7/50.. Train loss: 0.1432.. Train accuracy: 0.9465.. Top-3 train accuracy: 0.9984.. \n",
      "Epoch 7/50.. Test loss: 0.2204.. Test accuracy: 0.9251.. Top-3 test accuracy: 0.9956.. \n",
      "Epoch 8/50.. Time per epoch: 57.0283.. Average time per step: 0.0304.. \n",
      "Epoch 8/50.. Train loss: 0.1258.. Train accuracy: 0.9530.. Top-3 train accuracy: 0.9988.. \n",
      "Epoch 8/50.. Test loss: 0.2181.. Test accuracy: 0.9259.. Top-3 test accuracy: 0.9939.. \n",
      "Epoch 9/50.. Time per epoch: 57.4178.. Average time per step: 0.0306.. \n",
      "Epoch 9/50.. Train loss: 0.1095.. Train accuracy: 0.9599.. Top-3 train accuracy: 0.9991.. \n",
      "Epoch 9/50.. Test loss: 0.2243.. Test accuracy: 0.9268.. Top-3 test accuracy: 0.9946.. \n",
      "Epoch 10/50.. Time per epoch: 56.7988.. Average time per step: 0.0303.. \n",
      "Epoch 10/50.. Train loss: 0.0967.. Train accuracy: 0.9637.. Top-3 train accuracy: 0.9993.. \n",
      "Epoch 10/50.. Test loss: 0.2330.. Test accuracy: 0.9254.. Top-3 test accuracy: 0.9954.. \n",
      "Epoch 11/50.. Time per epoch: 57.1340.. Average time per step: 0.0305.. \n",
      "Epoch 11/50.. Train loss: 0.0826.. Train accuracy: 0.9699.. Top-3 train accuracy: 0.9995.. \n",
      "Epoch 11/50.. Test loss: 0.2466.. Test accuracy: 0.9280.. Top-3 test accuracy: 0.9949.. \n",
      "Epoch 12/50.. Time per epoch: 56.0162.. Average time per step: 0.0299.. \n",
      "Epoch 12/50.. Train loss: 0.0736.. Train accuracy: 0.9720.. Top-3 train accuracy: 0.9996.. \n",
      "Epoch 12/50.. Test loss: 0.2421.. Test accuracy: 0.9278.. Top-3 test accuracy: 0.9945.. \n",
      "Epoch 13/50.. Time per epoch: 56.7692.. Average time per step: 0.0303.. \n",
      "Epoch 13/50.. Train loss: 0.0600.. Train accuracy: 0.9780.. Top-3 train accuracy: 0.9998.. \n",
      "Epoch 13/50.. Test loss: 0.2636.. Test accuracy: 0.9294.. Top-3 test accuracy: 0.9944.. \n",
      "Epoch 14/50.. Time per epoch: 55.8389.. Average time per step: 0.0298.. \n",
      "Epoch 14/50.. Train loss: 0.0554.. Train accuracy: 0.9796.. Top-3 train accuracy: 0.9998.. \n",
      "Epoch 14/50.. Test loss: 0.2728.. Test accuracy: 0.9305.. Top-3 test accuracy: 0.9943.. \n",
      "Epoch 15/50.. Time per epoch: 56.4257.. Average time per step: 0.0301.. \n",
      "Epoch 15/50.. Train loss: 0.0477.. Train accuracy: 0.9825.. Top-3 train accuracy: 0.9999.. \n",
      "Epoch 15/50.. Test loss: 0.2951.. Test accuracy: 0.9274.. Top-3 test accuracy: 0.9928.. \n",
      "Epoch 16/50.. Time per epoch: 57.4187.. Average time per step: 0.0306.. \n",
      "Epoch 16/50.. Train loss: 0.0418.. Train accuracy: 0.9841.. Top-3 train accuracy: 0.9999.. \n",
      "Epoch 16/50.. Test loss: 0.3041.. Test accuracy: 0.9321.. Top-3 test accuracy: 0.9938.. \n",
      "Epoch 17/50.. Time per epoch: 57.7619.. Average time per step: 0.0308.. \n",
      "Epoch 17/50.. Train loss: 0.0399.. Train accuracy: 0.9856.. Top-3 train accuracy: 0.9999.. \n",
      "Epoch 17/50.. Test loss: 0.2975.. Test accuracy: 0.9317.. Top-3 test accuracy: 0.9945.. \n",
      "Epoch 18/50.. Time per epoch: 57.5588.. Average time per step: 0.0307.. \n",
      "Epoch 18/50.. Train loss: 0.0347.. Train accuracy: 0.9873.. Top-3 train accuracy: 1.0000.. \n",
      "Epoch 18/50.. Test loss: 0.3166.. Test accuracy: 0.9269.. Top-3 test accuracy: 0.9942.. \n",
      "Epoch 19/50.. Time per epoch: 56.2583.. Average time per step: 0.0300.. \n",
      "Epoch 19/50.. Train loss: 0.0321.. Train accuracy: 0.9886.. Top-3 train accuracy: 0.9999.. \n",
      "Epoch 19/50.. Test loss: 0.3431.. Test accuracy: 0.9299.. Top-3 test accuracy: 0.9940.. \n",
      "Epoch 20/50.. Time per epoch: 56.0506.. Average time per step: 0.0299.. \n",
      "Epoch 20/50.. Train loss: 0.0301.. Train accuracy: 0.9889.. Top-3 train accuracy: 0.9999.. \n",
      "Epoch 20/50.. Test loss: 0.3519.. Test accuracy: 0.9244.. Top-3 test accuracy: 0.9934.. \n",
      "Epoch 21/50.. Time per epoch: 56.7603.. Average time per step: 0.0303.. \n",
      "Epoch 21/50.. Train loss: 0.0294.. Train accuracy: 0.9895.. Top-3 train accuracy: 1.0000.. \n",
      "Epoch 21/50.. Test loss: 0.3200.. Test accuracy: 0.9320.. Top-3 test accuracy: 0.9945.. \n",
      "Epoch 22/50.. Time per epoch: 56.5736.. Average time per step: 0.0302.. \n",
      "Epoch 22/50.. Train loss: 0.0264.. Train accuracy: 0.9905.. Top-3 train accuracy: 0.9999.. \n",
      "Epoch 22/50.. Test loss: 0.3497.. Test accuracy: 0.9297.. Top-3 test accuracy: 0.9932.. \n",
      "Epoch 23/50.. Time per epoch: 56.4925.. Average time per step: 0.0301.. \n",
      "Epoch 23/50.. Train loss: 0.0255.. Train accuracy: 0.9908.. Top-3 train accuracy: 1.0000.. \n",
      "Epoch 23/50.. Test loss: 0.3488.. Test accuracy: 0.9303.. Top-3 test accuracy: 0.9937.. \n",
      "Epoch 24/50.. Time per epoch: 56.2023.. Average time per step: 0.0300.. \n",
      "Epoch 24/50.. Train loss: 0.0231.. Train accuracy: 0.9918.. Top-3 train accuracy: 1.0000.. \n",
      "Epoch 24/50.. Test loss: 0.3761.. Test accuracy: 0.9301.. Top-3 test accuracy: 0.9925.. \n",
      "Epoch 25/50.. Time per epoch: 55.9261.. Average time per step: 0.0298.. \n",
      "Epoch 25/50.. Train loss: 0.0224.. Train accuracy: 0.9917.. Top-3 train accuracy: 1.0000.. \n",
      "Epoch 25/50.. Test loss: 0.3735.. Test accuracy: 0.9290.. Top-3 test accuracy: 0.9929.. \n",
      "Epoch 26/50.. Time per epoch: 57.1690.. Average time per step: 0.0305.. \n",
      "Epoch 26/50.. Train loss: 0.0220.. Train accuracy: 0.9920.. Top-3 train accuracy: 0.9999.. \n",
      "Epoch 26/50.. Test loss: 0.3661.. Test accuracy: 0.9279.. Top-3 test accuracy: 0.9940.. \n",
      "Epoch 27/50.. Time per epoch: 57.0388.. Average time per step: 0.0304.. \n",
      "Epoch 27/50.. Train loss: 0.0185.. Train accuracy: 0.9935.. Top-3 train accuracy: 1.0000.. \n",
      "Epoch 27/50.. Test loss: 0.4126.. Test accuracy: 0.9270.. Top-3 test accuracy: 0.9920.. \n",
      "Epoch 28/50.. Time per epoch: 56.8025.. Average time per step: 0.0303.. \n",
      "Epoch 28/50.. Train loss: 0.0202.. Train accuracy: 0.9930.. Top-3 train accuracy: 1.0000.. \n",
      "Epoch 28/50.. Test loss: 0.3773.. Test accuracy: 0.9303.. Top-3 test accuracy: 0.9935.. \n",
      "Epoch 29/50.. Time per epoch: 56.5927.. Average time per step: 0.0302.. \n",
      "Epoch 29/50.. Train loss: 0.0177.. Train accuracy: 0.9942.. Top-3 train accuracy: 1.0000.. \n",
      "Epoch 29/50.. Test loss: 0.4332.. Test accuracy: 0.9221.. Top-3 test accuracy: 0.9923.. \n",
      "Epoch 30/50.. Time per epoch: 56.7361.. Average time per step: 0.0303.. \n",
      "Epoch 30/50.. Train loss: 0.0184.. Train accuracy: 0.9935.. Top-3 train accuracy: 1.0000.. \n",
      "Epoch 30/50.. Test loss: 0.4037.. Test accuracy: 0.9320.. Top-3 test accuracy: 0.9931.. \n",
      "Epoch 31/50.. Time per epoch: 57.2607.. Average time per step: 0.0305.. \n",
      "Epoch 31/50.. Train loss: 0.0192.. Train accuracy: 0.9932.. Top-3 train accuracy: 1.0000.. \n",
      "Epoch 31/50.. Test loss: 0.3898.. Test accuracy: 0.9300.. Top-3 test accuracy: 0.9929.. \n",
      "Epoch 32/50.. Time per epoch: 57.1218.. Average time per step: 0.0305.. \n",
      "Epoch 32/50.. Train loss: 0.0146.. Train accuracy: 0.9948.. Top-3 train accuracy: 1.0000.. \n",
      "Epoch 32/50.. Test loss: 0.4246.. Test accuracy: 0.9302.. Top-3 test accuracy: 0.9933.. \n",
      "Epoch 33/50.. Time per epoch: 57.6126.. Average time per step: 0.0307.. \n",
      "Epoch 33/50.. Train loss: 0.0170.. Train accuracy: 0.9942.. Top-3 train accuracy: 1.0000.. \n",
      "Epoch 33/50.. Test loss: 0.3884.. Test accuracy: 0.9307.. Top-3 test accuracy: 0.9945.. \n",
      "Epoch 34/50.. Time per epoch: 59.2333.. Average time per step: 0.0316.. \n",
      "Epoch 34/50.. Train loss: 0.0140.. Train accuracy: 0.9951.. Top-3 train accuracy: 1.0000.. \n",
      "Epoch 34/50.. Test loss: 0.3979.. Test accuracy: 0.9344.. Top-3 test accuracy: 0.9942.. \n",
      "Epoch 35/50.. Time per epoch: 60.2029.. Average time per step: 0.0321.. \n",
      "Epoch 35/50.. Train loss: 0.0166.. Train accuracy: 0.9937.. Top-3 train accuracy: 1.0000.. \n",
      "Epoch 35/50.. Test loss: 0.4024.. Test accuracy: 0.9297.. Top-3 test accuracy: 0.9925.. \n",
      "Epoch 36/50.. Time per epoch: 56.8927.. Average time per step: 0.0303.. \n",
      "Epoch 36/50.. Train loss: 0.0141.. Train accuracy: 0.9948.. Top-3 train accuracy: 1.0000.. \n",
      "Epoch 36/50.. Test loss: 0.4052.. Test accuracy: 0.9314.. Top-3 test accuracy: 0.9934.. \n",
      "Epoch 37/50.. Time per epoch: 56.8235.. Average time per step: 0.0303.. \n",
      "Epoch 37/50.. Train loss: 0.0123.. Train accuracy: 0.9955.. Top-3 train accuracy: 1.0000.. \n",
      "Epoch 37/50.. Test loss: 0.4314.. Test accuracy: 0.9273.. Top-3 test accuracy: 0.9938.. \n",
      "Epoch 38/50.. Time per epoch: 56.7775.. Average time per step: 0.0303.. \n",
      "Epoch 38/50.. Train loss: 0.0131.. Train accuracy: 0.9953.. Top-3 train accuracy: 1.0000.. \n",
      "Epoch 38/50.. Test loss: 0.4052.. Test accuracy: 0.9305.. Top-3 test accuracy: 0.9938.. \n",
      "Epoch 39/50.. Time per epoch: 56.4252.. Average time per step: 0.0301.. \n",
      "Epoch 39/50.. Train loss: 0.0136.. Train accuracy: 0.9951.. Top-3 train accuracy: 1.0000.. \n",
      "Epoch 39/50.. Test loss: 0.4398.. Test accuracy: 0.9296.. Top-3 test accuracy: 0.9938.. \n",
      "Epoch 40/50.. Time per epoch: 57.7647.. Average time per step: 0.0308.. \n",
      "Epoch 40/50.. Train loss: 0.0126.. Train accuracy: 0.9954.. Top-3 train accuracy: 1.0000.. \n",
      "Epoch 40/50.. Test loss: 0.4307.. Test accuracy: 0.9283.. Top-3 test accuracy: 0.9934.. \n",
      "Epoch 41/50.. Time per epoch: 57.1153.. Average time per step: 0.0305.. \n",
      "Epoch 41/50.. Train loss: 0.0113.. Train accuracy: 0.9961.. Top-3 train accuracy: 1.0000.. \n",
      "Epoch 41/50.. Test loss: 0.4128.. Test accuracy: 0.9311.. Top-3 test accuracy: 0.9934.. \n",
      "Epoch 42/50.. Time per epoch: 56.7269.. Average time per step: 0.0303.. \n",
      "Epoch 42/50.. Train loss: 0.0127.. Train accuracy: 0.9956.. Top-3 train accuracy: 1.0000.. \n",
      "Epoch 42/50.. Test loss: 0.4452.. Test accuracy: 0.9291.. Top-3 test accuracy: 0.9925.. \n",
      "Epoch 43/50.. Time per epoch: 57.2057.. Average time per step: 0.0305.. \n",
      "Epoch 43/50.. Train loss: 0.0113.. Train accuracy: 0.9963.. Top-3 train accuracy: 1.0000.. \n",
      "Epoch 43/50.. Test loss: 0.4569.. Test accuracy: 0.9264.. Top-3 test accuracy: 0.9932.. \n",
      "Epoch 44/50.. Time per epoch: 57.0415.. Average time per step: 0.0304.. \n",
      "Epoch 44/50.. Train loss: 0.0118.. Train accuracy: 0.9961.. Top-3 train accuracy: 1.0000.. \n",
      "Epoch 44/50.. Test loss: 0.4386.. Test accuracy: 0.9316.. Top-3 test accuracy: 0.9923.. \n",
      "Epoch 45/50.. Time per epoch: 56.4959.. Average time per step: 0.0301.. \n",
      "Epoch 45/50.. Train loss: 0.0120.. Train accuracy: 0.9961.. Top-3 train accuracy: 1.0000.. \n",
      "Epoch 45/50.. Test loss: 0.4463.. Test accuracy: 0.9281.. Top-3 test accuracy: 0.9937.. \n",
      "Epoch 46/50.. Time per epoch: 57.1739.. Average time per step: 0.0305.. \n",
      "Epoch 46/50.. Train loss: 0.0095.. Train accuracy: 0.9966.. Top-3 train accuracy: 1.0000.. \n",
      "Epoch 46/50.. Test loss: 0.4934.. Test accuracy: 0.9267.. Top-3 test accuracy: 0.9915.. \n",
      "Epoch 47/50.. Time per epoch: 57.7081.. Average time per step: 0.0308.. \n",
      "Epoch 47/50.. Train loss: 0.0118.. Train accuracy: 0.9962.. Top-3 train accuracy: 1.0000.. \n",
      "Epoch 47/50.. Test loss: 0.4220.. Test accuracy: 0.9321.. Top-3 test accuracy: 0.9944.. \n",
      "Epoch 48/50.. Time per epoch: 57.9208.. Average time per step: 0.0309.. \n",
      "Epoch 48/50.. Train loss: 0.0114.. Train accuracy: 0.9961.. Top-3 train accuracy: 1.0000.. \n",
      "Epoch 48/50.. Test loss: 0.4090.. Test accuracy: 0.9345.. Top-3 test accuracy: 0.9937.. \n",
      "Epoch 49/50.. Time per epoch: 57.3874.. Average time per step: 0.0306.. \n",
      "Epoch 49/50.. Train loss: 0.0088.. Train accuracy: 0.9970.. Top-3 train accuracy: 1.0000.. \n",
      "Epoch 49/50.. Test loss: 0.4520.. Test accuracy: 0.9264.. Top-3 test accuracy: 0.9937.. \n",
      "Epoch 50/50.. Time per epoch: 57.1896.. Average time per step: 0.0305.. \n",
      "Epoch 50/50.. Train loss: 0.0092.. Train accuracy: 0.9967.. Top-3 train accuracy: 1.0000.. \n",
      "Epoch 50/50.. Test loss: 0.4441.. Test accuracy: 0.9323.. Top-3 test accuracy: 0.9934.. \n"
     ]
    }
   ],
   "source": [
    "train_stats = pd.DataFrame()\n",
    "\n",
    "model.to(device)\n",
    "\n",
    "steps = 0\n",
    "running_loss = 0\n",
    "for epoch in range(epochs):\n",
    "    \n",
    "    since = time.time()\n",
    "    \n",
    "    train_accuracy = 0\n",
    "    top3_train_accuracy = 0 \n",
    "    for inputs, labels in trainloader:\n",
    "        steps += 1\n",
    "        # Move input and label tensors to the default device\n",
    "        inputs, labels = inputs.to(device), labels.to(device)\n",
    "        \n",
    "        optimizer.zero_grad()\n",
    "        \n",
    "        logps = model.forward(inputs)\n",
    "        loss = criterion(logps, labels)\n",
    "        loss.backward()\n",
    "        optimizer.step()\n",
    "\n",
    "        running_loss += loss.item()\n",
    "        \n",
    "        # calculate train top-1 accuracy\n",
    "        ps = torch.exp(logps)\n",
    "        top_p, top_class = ps.topk(1, dim=1)\n",
    "        equals = top_class == labels.view(*top_class.shape)\n",
    "        train_accuracy += torch.mean(equals.type(torch.FloatTensor)).item()\n",
    "        \n",
    "        # Calculate train top-3 accuracy\n",
    "        np_top3_class = ps.topk(3, dim=1)[1].cpu().numpy()\n",
    "        target_numpy = labels.cpu().numpy()\n",
    "        top3_train_accuracy += np.mean([1 if target_numpy[i] in np_top3_class[i] else 0 for i in range(0, len(target_numpy))])\n",
    "        \n",
    "    time_elapsed = time.time() - since\n",
    "    \n",
    "    test_loss = 0\n",
    "    test_accuracy = 0\n",
    "    top3_test_accuracy = 0\n",
    "    model.eval()\n",
    "    with torch.no_grad():\n",
    "        for inputs, labels in testloader:\n",
    "            inputs, labels = inputs.to(device), labels.to(device)\n",
    "            logps = model.forward(inputs)\n",
    "            batch_loss = criterion(logps, labels)\n",
    "\n",
    "            test_loss += batch_loss.item()\n",
    "\n",
    "            # Calculate test top-1 accuracy\n",
    "            ps = torch.exp(logps)\n",
    "            top_p, top_class = ps.topk(1, dim=1)\n",
    "            equals = top_class == labels.view(*top_class.shape)\n",
    "            test_accuracy += torch.mean(equals.type(torch.FloatTensor)).item()\n",
    "            \n",
    "            # Calculate test top-3 accuracy\n",
    "            np_top3_class = ps.topk(3, dim=1)[1].cpu().numpy()\n",
    "            target_numpy = labels.cpu().numpy()\n",
    "            top3_test_accuracy += np.mean([1 if target_numpy[i] in np_top3_class[i] else 0 for i in range(0, len(target_numpy))])\n",
    "\n",
    "            \n",
    "        # console output\n",
    "        print(f\"Epoch {epoch+1}/{epochs}.. \"\n",
    "              f\"Time per epoch: {time_elapsed:.4f}.. \"\n",
    "              f\"Average time per step: {time_elapsed/len(trainloader):.4f}.. \"\n",
    "              )\n",
    "        print(f\"Epoch {epoch+1}/{epochs}.. \"\n",
    "              f\"Train loss: {running_loss/len(trainloader):.4f}.. \"\n",
    "              f\"Train accuracy: {train_accuracy/len(trainloader):.4f}.. \"\n",
    "              f\"Top-3 train accuracy: {top3_train_accuracy/len(trainloader):.4f}.. \"\n",
    "              )\n",
    "        print(f\"Epoch {epoch+1}/{epochs}.. \"\n",
    "              f\"Test loss: {test_loss/len(testloader):.4f}.. \"\n",
    "              f\"Test accuracy: {test_accuracy/len(testloader):.4f}.. \"\n",
    "              f\"Top-3 test accuracy: {top3_test_accuracy/len(testloader):.4f}.. \"\n",
    "              )\n",
    "        if 'betas' in globals():\n",
    "            print(f\"Epoch {epoch+1}/{epochs}.. \"\n",
    "                  f\"Beta: {betas:.4f}\")\n",
    "\n",
    "\n",
    "        if 'betas' in globals():\n",
    "            train_stats = train_stats.append({'Epoch': int(epoch+1), 'Time per epoch':time_elapsed,\n",
    "                                              'Avg time per step': time_elapsed/len(trainloader),\n",
    "                                              'Train loss' : running_loss/len(trainloader),\n",
    "                                              'Train accuracy': train_accuracy/len(trainloader),\n",
    "                                              'Train top-3 accuracy':top3_train_accuracy/len(trainloader),\n",
    "                                              'Test loss' : test_loss/len(testloader),\n",
    "                                              'Test accuracy': test_accuracy/len(testloader),\n",
    "                                              'Test top-3 accuracy':top3_test_accuracy/len(testloader),\n",
    "                                              'Beta': betas\n",
    "                                              }, ignore_index=True)\n",
    "        else:\n",
    "            train_stats = train_stats.append({'Epoch': int(epoch+1), 'Time per epoch':time_elapsed,\n",
    "                                              'Avg time per step': time_elapsed/len(trainloader),\n",
    "                                              'Train loss' : running_loss/len(trainloader),\n",
    "                                              'Train accuracy': train_accuracy/len(trainloader),\n",
    "                                              'Train top-3 accuracy':top3_train_accuracy/len(trainloader),\n",
    "                                              'Test loss' : test_loss/len(testloader),\n",
    "                                              'Test accuracy': test_accuracy/len(testloader),\n",
    "                                              'Test top-3 accuracy':top3_test_accuracy/len(testloader)\n",
    "                                              }, ignore_index=True)\n",
    "\n",
    "    running_loss = 0\n",
    "    model.train()"
   ]
  },
  {
   "cell_type": "markdown",
   "metadata": {
    "colab_type": "text",
    "id": "2INXXuFjlzvq"
   },
   "source": [
    "## 6) Output"
   ]
  },
  {
   "cell_type": "code",
   "execution_count": 9,
   "metadata": {
    "colab": {},
    "colab_type": "code",
    "id": "JqRSuT_Vlzvr"
   },
   "outputs": [],
   "source": [
    "train_stats.to_csv(f'./storage/results/fashion-mnist_{network}_{activation}_{int(time.time())}.csv')"
   ]
  },
  {
   "cell_type": "markdown",
   "metadata": {
    "colab_type": "text",
    "id": "7F8l3Ixzlzvt"
   },
   "source": [
    "## 7) Confusion Matrix"
   ]
  },
  {
   "cell_type": "code",
   "execution_count": 10,
   "metadata": {
    "colab": {},
    "colab_type": "code",
    "id": "IhiKrWzZlzvu"
   },
   "outputs": [],
   "source": [
    "@torch.no_grad()\n",
    "def get_all_preds(model, loader):\n",
    "    all_preds = torch.tensor([]).to(device)\n",
    "    for batch in loader:\n",
    "        images, labels = batch\n",
    "        images = images.to(device)\n",
    "        labels = labels.to(device)\n",
    "        preds = model(images)\n",
    "        all_preds = torch.cat((all_preds, preds), dim=0)\n",
    "    return all_preds"
   ]
  },
  {
   "cell_type": "markdown",
   "metadata": {
    "colab_type": "text",
    "id": "Y5URl1b1lzvw"
   },
   "source": [
    "### 7.1) Train Set"
   ]
  },
  {
   "cell_type": "code",
   "execution_count": 11,
   "metadata": {
    "colab": {},
    "colab_type": "code",
    "id": "eF1lIGk-lzvx"
   },
   "outputs": [
    {
     "name": "stdout",
     "output_type": "stream",
     "text": [
      "60000\n",
      "60000\n"
     ]
    }
   ],
   "source": [
    "print(len(trainset))\n",
    "print(len(trainset.targets))"
   ]
  },
  {
   "cell_type": "code",
   "execution_count": 12,
   "metadata": {
    "colab": {},
    "colab_type": "code",
    "id": "wlPuFQwLlzv2"
   },
   "outputs": [],
   "source": [
    "with torch.no_grad():\n",
    "    train_prediction_loader = torch.utils.data.DataLoader(trainset, batch_size=1000)\n",
    "    train_preds = get_all_preds(model, train_prediction_loader).to(device)"
   ]
  },
  {
   "cell_type": "code",
   "execution_count": 13,
   "metadata": {},
   "outputs": [
    {
     "name": "stdout",
     "output_type": "stream",
     "text": [
      "tensor([[-10.3714,  -6.2387,  -5.4244,  ...,   5.0250,   0.1293,  15.2951],\n",
      "        [ 16.4534, -18.4727,  -5.4569,  ..., -19.8320,  -8.3321, -10.6236],\n",
      "        [ 10.0197,  -9.2790,   2.5018,  ...,  -6.7844,  -4.5395,  -4.7783],\n",
      "        ...,\n",
      "        [ -5.1017,  -7.5147,  -1.0087,  ...,  -9.3876, -11.9818, -22.4282],\n",
      "        [ 12.8431, -11.5469,   2.2808,  ..., -12.5893,  -7.6400,  -6.9650],\n",
      "        [-10.3404, -15.7954,  -9.7522,  ...,   1.0465, -24.4071, -10.7708]],\n",
      "       device='cuda:0')\n"
     ]
    }
   ],
   "source": [
    "print(train_preds)\n",
    "torch.save(train_preds, f'storage/results/train_preds_{network}_{activation}.pt')\n",
    "# train_preds = torch.load(f'storage/benchmarks/cm/train_preds_{network}_{activation}.pt')"
   ]
  },
  {
   "cell_type": "code",
   "execution_count": 14,
   "metadata": {
    "colab": {},
    "colab_type": "code",
    "id": "D-Sbiu99lzv4"
   },
   "outputs": [],
   "source": [
    "stacked_train = torch.stack((\n",
    "        trainset.targets.to(device),\n",
    "        train_preds.argmax(dim=1)\n",
    "    ), dim=1\n",
    ")"
   ]
  },
  {
   "cell_type": "code",
   "execution_count": 15,
   "metadata": {},
   "outputs": [
    {
     "data": {
      "text/plain": [
       "tensor([[9, 9],\n",
       "        [0, 0],\n",
       "        [0, 0],\n",
       "        ...,\n",
       "        [3, 3],\n",
       "        [0, 0],\n",
       "        [5, 5]], device='cuda:0')"
      ]
     },
     "execution_count": 15,
     "metadata": {},
     "output_type": "execute_result"
    }
   ],
   "source": [
    "stacked_train"
   ]
  },
  {
   "cell_type": "code",
   "execution_count": 16,
   "metadata": {
    "colab": {},
    "colab_type": "code",
    "id": "jvRZBKP3lzv7"
   },
   "outputs": [],
   "source": [
    "cmtr = torch.zeros(10, 10, dtype=torch.int64)\n",
    "\n",
    "for p in stacked_train:\n",
    "    true, predicted = p.tolist()\n",
    "    cmtr[true, predicted] = cmtr[true, predicted] + 1"
   ]
  },
  {
   "cell_type": "code",
   "execution_count": 17,
   "metadata": {
    "colab": {},
    "colab_type": "code",
    "id": "5z1_Iha5lzwB"
   },
   "outputs": [
    {
     "name": "stdout",
     "output_type": "stream",
     "text": [
      "Confusion matrix, without normalization\n",
      "tensor([[5975,    1,    2,    5,    2,    0,   15,    0,    0,    0],\n",
      "        [   0, 5999,    0,    0,    0,    0,    0,    0,    1,    0],\n",
      "        [   0,    0, 5917,    1,   22,    0,   60,    0,    0,    0],\n",
      "        [   1,    1,    0, 5993,    4,    0,    1,    0,    0,    0],\n",
      "        [   0,    0,    9,    0, 5988,    0,    3,    0,    0,    0],\n",
      "        [   0,    0,    0,    0,    0, 5999,    0,    0,    0,    1],\n",
      "        [  22,    0,    4,    4,    5,    0, 5964,    0,    1,    0],\n",
      "        [   0,    0,    0,    0,    0,    2,    0, 5995,    0,    3],\n",
      "        [   0,    0,    0,    0,    0,    0,    0,    0, 6000,    0],\n",
      "        [   0,    0,    0,    0,    0,    0,    0,    2,    0, 5998]])\n"
     ]
    },
    {
     "data": {
      "image/png": "[encoded data removed]",
      "text/plain": [
       "<Figure size 720x720 with 2 Axes>"
      ]
     },
     "metadata": {
      "needs_background": "light"
     },
     "output_type": "display_data"
    }
   ],
   "source": [
    "names_train = tuple(trainset.classes)\n",
    "plt.figure(figsize=(10,10))\n",
    "plot_confusion_matrix(cmtr, names_train, title=f'Confusion matrix - {network} - train - {activation}', activation=activation, network=network, step='train')"
   ]
  },
  {
   "cell_type": "markdown",
   "metadata": {
    "colab_type": "text",
    "id": "vlhJgMRelzwE"
   },
   "source": [
    "### 7.2) Test Set"
   ]
  },
  {
   "cell_type": "code",
   "execution_count": 18,
   "metadata": {
    "colab": {},
    "colab_type": "code",
    "id": "F5yZYP1OlzwE"
   },
   "outputs": [
    {
     "name": "stdout",
     "output_type": "stream",
     "text": [
      "10000\n",
      "10000\n"
     ]
    }
   ],
   "source": [
    "print(len(testset))\n",
    "print(len(testset.targets))"
   ]
  },
  {
   "cell_type": "code",
   "execution_count": 19,
   "metadata": {
    "colab": {},
    "colab_type": "code",
    "id": "A7DmqxXHlzwI"
   },
   "outputs": [],
   "source": [
    "with torch.no_grad():\n",
    "    test_prediction_loader = torch.utils.data.DataLoader(testset, batch_size=1000)\n",
    "    test_preds = get_all_preds(model, test_prediction_loader).to(device)"
   ]
  },
  {
   "cell_type": "code",
   "execution_count": 20,
   "metadata": {
    "colab": {},
    "colab_type": "code",
    "id": "EQi8U1sDlzwK"
   },
   "outputs": [],
   "source": [
    "stacked_test = torch.stack(\n",
    "    (\n",
    "        testset.targets.to(device),\n",
    "        test_preds.argmax(dim=1)\n",
    "    ),dim=1\n",
    ")"
   ]
  },
  {
   "cell_type": "code",
   "execution_count": 21,
   "metadata": {},
   "outputs": [
    {
     "name": "stdout",
     "output_type": "stream",
     "text": [
      "tensor([[ -8.4222,  -9.2493,  -9.6120,  ...,   0.7121, -18.3468,  22.3808],\n",
      "        [-15.8081, -17.7402,  13.5391,  ..., -13.5520, -14.1479, -16.1083],\n",
      "        [-25.8211,  32.9485, -26.8695,  ..., -15.4334,  -1.8417,  -9.6510],\n",
      "        ...,\n",
      "        [-25.2969, -11.1669, -21.5544,  ...,  -9.8537,  31.5990, -17.9837],\n",
      "        [-22.3235,  22.8460,  -8.2508,  ...,  -9.3086, -14.9667, -11.7928],\n",
      "        [ -7.0775, -11.1687,  -7.9996,  ...,  10.3896,   2.9301,  -6.4726]],\n",
      "       device='cuda:0')\n"
     ]
    }
   ],
   "source": [
    "print(test_preds)\n",
    "torch.save(test_preds, f'storage/results/test_preds_{network}_{activation}.pt')\n",
    "# test_preds = torch.load(f'storage/benchmarks/cm/test_preds_{network}_{activation}.pt')"
   ]
  },
  {
   "cell_type": "code",
   "execution_count": 22,
   "metadata": {
    "colab": {},
    "colab_type": "code",
    "id": "dV9ohkg6lzwM"
   },
   "outputs": [],
   "source": [
    "cmte = torch.zeros(10,10, dtype=torch.int64)\n",
    "#cmt\n",
    "for p in stacked_test:\n",
    "    true, predicted = p.tolist()\n",
    "    cmte[true, predicted] = cmte[true, predicted] + 1"
   ]
  },
  {
   "cell_type": "code",
   "execution_count": 23,
   "metadata": {
    "colab": {},
    "colab_type": "code",
    "id": "FkyYIMmalzwQ"
   },
   "outputs": [
    {
     "name": "stdout",
     "output_type": "stream",
     "text": [
      "Confusion matrix, without normalization\n",
      "tensor([[875,   1,  20,  16,   3,   1,  78,   0,   6,   0],\n",
      "        [  0, 990,   0,   7,   0,   0,   1,   0,   2,   0],\n",
      "        [ 14,   1, 881,   8,  35,   0,  60,   0,   1,   0],\n",
      "        [  8,   3,   6, 938,  23,   0,  21,   0,   1,   0],\n",
      "        [  0,   0,  26,   9, 915,   0,  50,   0,   0,   0],\n",
      "        [  0,   0,   0,   0,   0, 988,   0,   7,   0,   5],\n",
      "        [ 86,   0,  31,  16,  59,   0, 802,   0,   6,   0],\n",
      "        [  0,   0,   0,   0,   0,   7,   0, 975,   0,  18],\n",
      "        [  2,   1,   0,   4,   1,   2,   1,   1, 988,   0],\n",
      "        [  0,   0,   0,   0,   0,   3,   0,  22,   1, 974]])\n"
     ]
    },
    {
     "data": {
      "image/png": "[encoded data removed]",
      "text/plain": [
       "<Figure size 720x720 with 2 Axes>"
      ]
     },
     "metadata": {
      "needs_background": "light"
     },
     "output_type": "display_data"
    }
   ],
   "source": [
    "names_test = tuple(testset.classes)\n",
    "plt.figure(figsize=(10,10))\n",
    "plot_confusion_matrix(cmte, names_test, title=f'Confusion matrix - {network} - test - {activation}', activation=activation, network=network, step='test')"
   ]
  }
 ],
 "metadata": {
  "accelerator": "GPU",
  "colab": {
   "collapsed_sections": [
    "BHpyE6d2lzvX",
    "kkYmaKzYlzva",
    "_d5gyyVKlzvd",
    "ekprYQyAlzvk"
   ],
   "name": "fashion-mnist_benchmark.ipynb",
   "provenance": []
  },
  "kernelspec": {
   "display_name": "Python 3",
   "language": "python",
   "name": "python3"
  },
  "language_info": {
   "codemirror_mode": {
    "name": "ipython",
    "version": 3
   },
   "file_extension": ".py",
   "mimetype": "text/x-python",
   "name": "python",
   "nbconvert_exporter": "python",
   "pygments_lexer": "ipython3",
   "version": "3.6.8"
  }
 },
 "nbformat": 4,
 "nbformat_minor": 4
}